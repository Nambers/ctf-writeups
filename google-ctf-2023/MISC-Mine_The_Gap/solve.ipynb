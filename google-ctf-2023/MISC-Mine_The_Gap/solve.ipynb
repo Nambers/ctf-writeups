{
 "cells": [
  {
   "cell_type": "code",
   "execution_count": 1,
   "metadata": {},
   "outputs": [],
   "source": [
    "# *-* coding: utf-8 *-*\n",
    "import itertools\n",
    "from z3 import *"
   ]
  },
  {
   "cell_type": "code",
   "execution_count": 2,
   "metadata": {},
   "outputs": [],
   "source": [
    "with open('gameboard.txt', 'r') as fin:\n",
    "    circuit = fin.read()\n",
    "    circuit = circuit.replace(' ', '0')\n",
    "    circuit = [list(line) for line in circuit.split('\\n') if len(line) > 0]\n",
    "\n",
    "GRID_WIDTH = len(circuit[0])\n",
    "GRID_HEIGHT = len(circuit)"
   ]
  },
  {
   "cell_type": "code",
   "execution_count": 3,
   "metadata": {},
   "outputs": [
    {
     "name": "stdout",
     "output_type": "stream",
     "text": [
      "3600 1632\n"
     ]
    }
   ],
   "source": [
    "# 3600 1632\n",
    "print(GRID_WIDTH, GRID_HEIGHT)"
   ]
  },
  {
   "cell_type": "code",
   "execution_count": 4,
   "metadata": {},
   "outputs": [],
   "source": [
    "s = Solver()\n",
    "valList = [None] * GRID_WIDTH * GRID_HEIGHT\n",
    "numList = []\n",
    "formulas = []\n",
    "\n",
    "for _, (x, y) in enumerate(itertools.product(range(GRID_WIDTH), range(GRID_HEIGHT))):\n",
    "    value = int(circuit[y][x], 16)\n",
    "    # 11 - fixed mine\n",
    "    # 10 - chosen mine\n",
    "    # 9 - closed\n",
    "    if value == 11:\n",
    "        valList[y * GRID_WIDTH + x] = IntVal(1)\n",
    "    elif value == 9:\n",
    "        val = Int(f\"Cell{x},{y}\")\n",
    "        valList[y * GRID_WIDTH + x] = val\n",
    "        formulas.append(val >= IntVal(0))\n",
    "        formulas.append(val <= IntVal(1))\n",
    "    elif value in range(1, 9):\n",
    "        numList.append([x, y, value])\n",
    "    elif value == 0:\n",
    "        # empty cell\n",
    "        pass\n",
    "    else:\n",
    "        print(f'Invalid state {value}')\n",
    "        raise Exception(\"Invalid state\")"
   ]
  },
  {
   "cell_type": "code",
   "execution_count": 5,
   "metadata": {},
   "outputs": [
    {
     "name": "stdout",
     "output_type": "stream",
     "text": [
      "constraints added finished\n"
     ]
    }
   ],
   "source": [
    "for coord in numList:\n",
    "    x, y, val = coord\n",
    "    # if y > 0 and x > 0: neighbours += validate_grid[y-1][x-1].state in [10, 11]\n",
    "    # if y > 0: neighbours += validate_grid[y-1][x].state in [10, 11]\n",
    "    # if y > 0 and x+1 < GRID_WIDTH: neighbours += validate_grid[y-1][x+1].state in [10,11]\n",
    "    # if x > 0: neighbours += validate_grid[y][x-1].state in [10, 11]\n",
    "    # if x+1 < GRID_WIDTH: neighbours += validate_grid[y][x+1].state in [10,11]\n",
    "    # if y+1 < GRID_HEIGHT and x > 0: neighbours += validate_grid[y+1][x-1].state in [10, 11]\n",
    "    # if y+1 < GRID_HEIGHT: neighbours += validate_grid[y+1][x].state in [10, 11]\n",
    "    # if y+1 < GRID_HEIGHT and x+1 < GRID_WIDTH: neighbours += validate_grid[y+1][x+1].state in [10, 11]\n",
    "    formulas.append(IntVal(val) == \n",
    "          (valList[(y-1) * GRID_WIDTH + x-1] if y > 0 and x > 0 and valList[(y-1) * GRID_WIDTH + x-1] != None else IntVal(0)) +\n",
    "          (valList[(y-1) * GRID_WIDTH + x] if y > 0 and valList[(y-1) * GRID_WIDTH + x] != None else IntVal(0)) +\n",
    "          (valList[(y-1) * GRID_WIDTH + x+1] if y > 0 and x+1 < GRID_WIDTH and valList[(y-1) * GRID_WIDTH + x+1] != None else IntVal(0)) +\n",
    "          (valList[y * GRID_WIDTH + x-1] if x > 0 and valList[y * GRID_WIDTH + x-1] != None else IntVal(0)) +\n",
    "          (valList[y * GRID_WIDTH + x+1] if x+1 < GRID_WIDTH and valList[y * GRID_WIDTH + x+1] != None else IntVal(0)) +\n",
    "          (valList[(y+1) * GRID_WIDTH + x-1] if y+1 < GRID_HEIGHT and x > 0 and valList[(y+1) * GRID_WIDTH + x-1] != None else IntVal(0)) +\n",
    "          (valList[(y+1) * GRID_WIDTH + x] if y+1 < GRID_HEIGHT and valList[(y+1) * GRID_WIDTH + x] != None else IntVal(0)) +\n",
    "          (valList[(y+1) * GRID_WIDTH + x+1] if y+1 < GRID_HEIGHT and x+1 < GRID_WIDTH and valList[(y+1) * GRID_WIDTH + x+1] != None else IntVal(0))\n",
    "    )\n",
    "print(\"constraints added finished\")"
   ]
  },
  {
   "cell_type": "code",
   "execution_count": 6,
   "metadata": {},
   "outputs": [],
   "source": [
    "# https://stackoverflow.com/a/70656700/14646226 from alias by CC BY-SA 4.0\n",
    "def all_smt(s, initial_terms):\n",
    "    def block_term(s, m, t):\n",
    "        s.add(t != m.eval(t, model_completion=True))\n",
    "    def fix_term(s, m, t):\n",
    "        s.add(t == m.eval(t, model_completion=True))\n",
    "    def all_smt_rec(terms):\n",
    "        if sat == s.check():\n",
    "           m = s.model()\n",
    "           yield m\n",
    "           for i in range(len(terms)):\n",
    "               s.push()\n",
    "               block_term(s, m, terms[i])\n",
    "               for j in range(i):\n",
    "                   fix_term(s, m, terms[j])\n",
    "               yield from all_smt_rec(terms[i:])\n",
    "               s.pop()   \n",
    "    yield from all_smt_rec(list(initial_terms))"
   ]
  },
  {
   "cell_type": "code",
   "execution_count": 7,
   "metadata": {},
   "outputs": [],
   "source": [
    "# s = Solver()\n",
    "# s.add(formulas)\n",
    "# print(s.check())\n",
    "# model = s.model()\n",
    "ss = Solver()\n",
    "ss.add(formulas)\n",
    "models = list(all_smt(ss, [v for v in valList if v is IntVal]))"
   ]
  },
  {
   "cell_type": "code",
   "execution_count": 8,
   "metadata": {},
   "outputs": [
    {
     "name": "stdout",
     "output_type": "stream",
     "text": [
      "number of all possible models:  1\n"
     ]
    }
   ],
   "source": [
    "print(\"number of all possible models: \", len(models))"
   ]
  },
  {
   "cell_type": "code",
   "execution_count": 9,
   "metadata": {},
   "outputs": [],
   "source": [
    "model = models[0]"
   ]
  },
  {
   "cell_type": "code",
   "execution_count": 10,
   "metadata": {},
   "outputs": [
    {
     "name": "stdout",
     "output_type": "stream",
     "text": [
      "{3441: 0, 3417: 0, 3345: 0, 3321: 0, 3297: 0, 3225: 0, 3201: 0, 3177: 0, 3153: 1, 3081: 0, 3057: 0, 3033: 1, 3009: 0, 2985: 0, 2961: 0, 2937: 1, 2865: 0, 2841: 0, 2817: 0, 2793: 1, 2769: 0, 2745: 0, 2721: 1, 2697: 1, 2673: 0, 2649: 0, 2625: 0, 2553: 0, 2529: 0, 2505: 0, 2481: 1, 2457: 0, 2433: 0, 2409: 0, 2385: 1, 2361: 1, 2337: 1, 2313: 0, 2289: 1, 2217: 0, 2193: 0, 2169: 1, 2145: 0, 2121: 1, 2097: 1, 2073: 1, 2049: 0, 2025: 0, 2001: 0, 1977: 0, 1953: 1, 1929: 1, 1905: 0, 1833: 0, 1809: 0, 1785: 1, 1761: 0, 1737: 1, 1713: 1, 1689: 1, 1665: 1, 1641: 1, 1617: 1, 1593: 0, 1569: 0, 1545: 1, 1521: 0, 1497: 0, 1473: 0, 1449: 1, 1425: 1, 1401: 0, 1329: 0, 1305: 0, 1281: 0, 1257: 1, 1233: 0, 1209: 0, 1185: 0, 1161: 0, 1137: 0, 1113: 0, 1089: 0, 1065: 1, 1041: 0, 1017: 1, 993: 1, 969: 1, 945: 1, 921: 0, 897: 1, 873: 1, 849: 0, 825: 1, 801: 0, 777: 1, 705: 0, 681: 0, 657: 0, 633: 0, 609: 1, 585: 0, 561: 0, 537: 0, 513: 1, 489: 0, 465: 1, 441: 0, 417: 1, 393: 0, 369: 1, 345: 1, 321: 0, 297: 1, 273: 0, 249: 1, 177: 0, 153: 0, 129: 1, 105: 0, 81: 0, 57: 1, 33: 0, 9: 0}\n",
      "124\n"
     ]
    }
   ],
   "source": [
    "bitsVariables = {}\n",
    "for val in model:\n",
    "    # any cell y=23\n",
    "    if val.name().split(',')[1] == \"23\":\n",
    "        # use x as key\n",
    "        bitsVariables[int(val.name().split(',')[0].removeprefix(\"Cell\"))] = model[val].as_long()\n",
    "print(bitsVariables)\n",
    "print(len(bitsVariables))"
   ]
  },
  {
   "cell_type": "code",
   "execution_count": 11,
   "metadata": {},
   "outputs": [
    {
     "name": "stdout",
     "output_type": "stream",
     "text": [
      "000000000000000000000000000000000000000000000000000000000100000000000000000000000000000000000000000000000000000000000000000000000100000000000000000000000000000000000000000000000000000000000000000000000000000000000000000000000000000000000000000000000100000000000000000000000000000000000000000000000100000000000000000000000000000000000000000000000100000000000000000000000100000000000000000000000000000000000000000000000100000000000000000000000000000000000000000000000100000000000000000000000000000000000000000000000100000000000000000000000000000000000000000000000000000000000000000000000000000000000000000000000100000000000000000000000000000000000000000000000000000000000000000000000000000000000000000000000000000000000000000000000000000000000000000000000000000000000000000000000100000000000000000000000000000000000000000000000100000000000000000000000000000000000000000000000100000000000000000000000100000000000000000000000000000000000000000000000100000000000000000000000100000000000000000000000100000000000000000000000100000000000000000000000000000000000000000000000100000000000000000000000000000000000000000000000000000000000000000000000000000000000000000000000000000000000000000000000000000000000000000000000000000000000000000000000000000000000000000000000100000000000000000000000000000000000000000000000000000000000000000000000000000000000000000000000000000000000000000000000000000000000000000000000000000000000000000000000100000000000000000000000100000000000000000000000000000000000000000000000000000000000000000000000000000000000000000000000100000000000000000000000000000000000000000000000000000000000000000000000100000000000000000000000100000000000000000000000100000000000000000000000100000000000000000000000100000000000000000000000100000000000000000000000000000000000000000000000100000000000000000000000000000000000000000000000000000000000000000000000000000000000000000000000000000000000000000000000000000000000000000000000100000000000000000000000100000000000000000000000000000000000000000000000000000000000000000000000000000000000000000000000000000000000000000000000100000000000000000000000100000000000000000000000100000000000000000000000000000000000000000000000100000000000000000000000000000000000000000000000000000000000000000000000000000000000000000000000000000000000000000000000100000000000000000000000000000000000000000000000100000000000000000000000100000000000000000000000100000000000000000000000000000000000000000000000000000000000000000000000000000000000000000000000100000000000000000000000000000000000000000000000000000000000000000000000000000000000000000000000000000000000000000000000000000000000000000000000000000000000000000000000000000000000000000000000000000000000000000000000100000000000000000000000100000000000000000000000000000000000000000000000000000000000000000000000100000000000000000000000000000000000000000000000000000000000000000000000000000000000000000000000000000000000000000000000000000000000000000000000100000000000000000000000000000000000000000000000000000000000000000000000000000000000000000000000100000000000000000000000000000000000000000000000000000000000000000000000000000000000000000000000000000000000000000000000100000000000000000000000000000000000000000000000000000000000000000000000000000000000000000000000000000000000000000000000000000000000000000000000000000000000000000000000000000000000000000000000000000000000000000000000000000000000000000000000000000000000000000000000000000000000000000000000000000000000000000000000000000000000000000000000000000000000000000000000000000000000000000000000000000000000000000000000000000000000000000000000000000000000000\n",
      "1s:  47\n"
     ]
    }
   ],
   "source": [
    "bits = []\n",
    "for x in range(GRID_WIDTH):\n",
    "    if x in bitsVariables.keys():\n",
    "        # close cell - can be mine or not\n",
    "        bits.append(bitsVariables[x])\n",
    "    elif int(circuit[23][x], 16) == 11:\n",
    "        # fixed mine\n",
    "        bits.append(1)\n",
    "    elif valList[23 * GRID_WIDTH + x] == None and int(circuit[23][x], 16) in range(0, 9 ):\n",
    "        # empty cell\n",
    "        bits.append(0)\n",
    "    else:\n",
    "        print(f'Invalid state {value}')\n",
    "        raise Exception(\"Invalid state\")\n",
    "print(\"\".join([str(x) for x in bits]))\n",
    "print(\"1s: \", len([x for x in bits if x == 1]))"
   ]
  },
  {
   "cell_type": "code",
   "execution_count": 12,
   "metadata": {},
   "outputs": [
    {
     "name": "stdout",
     "output_type": "stream",
     "text": [
      "Flag: CTF{d8675fca837faa20bc0f3a7ad10e9d2682fa0c35c40872938f1d45e5ed97ab27}\n"
     ]
    }
   ],
   "source": [
    "import hashlib\n",
    "\n",
    "\n",
    "flag = hashlib.sha256(bytes(bits)).hexdigest()\n",
    "print(f'Flag: CTF{{{flag}}}')"
   ]
  }
 ],
 "metadata": {
  "kernelspec": {
   "display_name": "Python 3",
   "language": "python",
   "name": "python3"
  },
  "language_info": {
   "codemirror_mode": {
    "name": "ipython",
    "version": 3
   },
   "file_extension": ".py",
   "mimetype": "text/x-python",
   "name": "python",
   "nbconvert_exporter": "python",
   "pygments_lexer": "ipython3",
   "version": "3.10.6"
  },
  "orig_nbformat": 4
 },
 "nbformat": 4,
 "nbformat_minor": 2
}
