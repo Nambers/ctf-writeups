{
 "cells": [
  {
   "cell_type": "code",
   "execution_count": 63,
   "id": "f8e77836",
   "metadata": {},
   "outputs": [
    {
     "name": "stdout",
     "output_type": "stream",
     "text": [
      "[x] Opening connection to 198.199.90.158 on port 37793\n",
      "[x] Opening connection to 198.199.90.158 on port 37793: Trying 198.199.90.158\n",
      "[+] Opening connection to 198.199.90.158 on port 37793: Done\n",
      "1685766708\n"
     ]
    }
   ],
   "source": [
    "from pwn import *\n",
    "from ctypes import CDLL\n",
    "from ctypes.util import find_library\n",
    "libc = CDLL(find_library(\"c\"))\n",
    "time = libc.time(0)\n",
    "r = remote(\"198.199.90.158\", 37793)\n",
    "# r = gdb.debug(\"pwn2/main\", gdbscript=\"c\\n\")\n",
    "print(time)"
   ]
  },
  {
   "cell_type": "code",
   "execution_count": 64,
   "id": "8b41913d",
   "metadata": {},
   "outputs": [
    {
     "name": "stdout",
     "output_type": "stream",
     "text": [
      "b\"Ok, it's time to do some math!\\n\"\n",
      "b'1196255091 + 268745198 = ?\\n'\n"
     ]
    }
   ],
   "source": [
    "print(r.recvline())\n",
    "print(r.recvline())"
   ]
  },
  {
   "cell_type": "code",
   "execution_count": 65,
   "id": "50886871",
   "metadata": {},
   "outputs": [
    {
     "name": "stdout",
     "output_type": "stream",
     "text": [
      "1196255091 + 268745198\n"
     ]
    }
   ],
   "source": [
    "timea = time + -1\n",
    "libc.srand(timea)\n",
    "for _ in range(libc.rand() % 8192):\n",
    "    libc.rand()\n",
    "a = libc.rand()\n",
    "b = libc.rand()\n",
    "print(a, \"+\", b)\n",
    "# change the offset of time until a and b is same as result in last step"
   ]
  },
  {
   "cell_type": "code",
   "execution_count": 66,
   "id": "1bcf1532",
   "metadata": {},
   "outputs": [
    {
     "name": "stderr",
     "output_type": "stream",
     "text": [
      "/tmp/ipykernel_2913/2341807573.py:1: BytesWarning: Text is not bytes; assuming ASCII, no guarantees. See https://docs.pwntools.com/#bytes\n",
      "  r.sendline(str(a + b))\n"
     ]
    },
    {
     "name": "stdout",
     "output_type": "stream",
     "text": [
      "b'2119009677 + 505596660 = ?\\n'\n"
     ]
    },
    {
     "name": "stderr",
     "output_type": "stream",
     "text": [
      "/tmp/ipykernel_2913/2341807573.py:6: BytesWarning: Text is not bytes; assuming ASCII, no guarantees. See https://docs.pwntools.com/#bytes\n",
      "  r.sendline(str(a + b))\n"
     ]
    },
    {
     "name": "stdout",
     "output_type": "stream",
     "text": [
      "b'1505882039 + 1888907214 = ?\\n'\n",
      "b'18172626 + 323810871 = ?\\n'\n",
      "b'519985047 + 904521708 = ?\\n'\n"
     ]
    }
   ],
   "source": [
    "r.sendline(str(a + b))\n",
    "for i in range(4):\n",
    "    print(r.recvline())\n",
    "    a = libc.rand()\n",
    "    b = libc.rand()\n",
    "    r.sendline(str(a + b))\n",
    "    "
   ]
  },
  {
   "cell_type": "code",
   "execution_count": 67,
   "id": "4706bb7b",
   "metadata": {},
   "outputs": [
    {
     "name": "stdout",
     "output_type": "stream",
     "text": [
      "b\"Ok, let's switch it up. This time you give me the first number, and I give the rest!\\n\"\n",
      "b'? + # = 1445999475\\n'\n",
      "1314389777 131609698 1445999475\n",
      "b'The equation was ? + 131609698 = 1445999475\\n'\n",
      "b'? + # = 267495927\\n'\n",
      "-1358253293 1625749220 267495927\n",
      "b'The equation was ? + 1625749220 = 267495927\\n'\n",
      "b'? + # = 626867160\\n'\n",
      "147850304 479016856 626867160\n",
      "b'The equation was ? + 479016856 = 626867160\\n'\n",
      "b'? + # = 267087057\\n'\n",
      "-1860677796 2127764853 267087057\n",
      "b'The equation was ? + 2127764853 = 267087057\\n'\n",
      "b'? + # = 360451171\\n'\n",
      "-1635321815 1995772986 360451171\n",
      "b'The equation was ? + 1995772986 = 360451171\\n'\n"
     ]
    }
   ],
   "source": [
    "print(r.recvline())\n",
    "for i in range(5):\n",
    "    print(r.recvline())\n",
    "    b = libc.rand()\n",
    "    c = libc.rand()\n",
    "    print(c - b, b, c)\n",
    "    r.sendline(str(c - b).encode())\n",
    "    print(r.recvline())"
   ]
  },
  {
   "cell_type": "code",
   "execution_count": 68,
   "id": "172685a4",
   "metadata": {},
   "outputs": [
    {
     "name": "stdout",
     "output_type": "stream",
     "text": [
      "b'Ok, you get the flag now, I guess\\n'\n",
      "b'ctf{sr4nd_t1m3_n0t_th4t_r4nd0m}\\n'\n"
     ]
    }
   ],
   "source": [
    "print(r.recvline())\n",
    "print(r.recvline())"
   ]
  },
  {
   "cell_type": "code",
   "execution_count": 69,
   "id": "ecf36d0f",
   "metadata": {},
   "outputs": [
    {
     "name": "stdout",
     "output_type": "stream",
     "text": [
      "[*] Closed connection to 198.199.90.158 port 37793\n"
     ]
    }
   ],
   "source": [
    "r.close()"
   ]
  },
  {
   "cell_type": "code",
   "execution_count": null,
   "id": "75a32d69",
   "metadata": {},
   "outputs": [],
   "source": []
  }
 ],
 "metadata": {
  "kernelspec": {
   "display_name": "Python 3 (ipykernel)",
   "language": "python",
   "name": "python3"
  },
  "language_info": {
   "codemirror_mode": {
    "name": "ipython",
    "version": 3
   },
   "file_extension": ".py",
   "mimetype": "text/x-python",
   "name": "python",
   "nbconvert_exporter": "python",
   "pygments_lexer": "ipython3",
   "version": "3.10.6"
  }
 },
 "nbformat": 4,
 "nbformat_minor": 5
}
